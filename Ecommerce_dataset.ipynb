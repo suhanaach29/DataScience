{
 "cells": [
  {
   "cell_type": "markdown",
   "id": "skHfgkqlqndO",
   "metadata": {
    "id": "skHfgkqlqndO"
   },
   "source": [
    "### Analysis of an E-commerce Dataset\n",
    "\n",
    "We have been provided with a combined e-commerce dataset. In this dataset, each user has the ability to post a rating and review for the products they purchased. Additionally, other users can evaluate the initial rating and review by expressing their trust or distrust.\n",
    "\n",
    "This dataset includes a wealth of information for each user. Details such as their profile, ID, gender, city of birth, product ratings (on a scale of 1-5), reviews, and the prices of the products they purchased are all included. Moreover, for each product rating, we have information about the product name, ID, price, and category, the rating score, the timestamp of the rating and review, and the average helpfulness of the rating given by others (on a scale of 1-5).\n",
    "\n",
    "The dataset is from several data sources, and we have merged all the data into a single CSV file named 'A Combined E-commerce Dataset.csv'. The structure of this dataset is represented in the header shown below.\n",
    "\n",
    "| userId | gender | rating | review| item | category | helpfulness | timestamp | item_id | item_price | user_city|\n",
    "\n",
    "    | ---- | ---- | ---- | ---- | ---- | ---- | ---- | ---- | ---- |  ---- |  ---- |  \n",
    "    \n",
    "#### Description of Fields\n",
    "\n",
    "* __userId__ - the user's id\n",
    "* __gender__ - the user's gender\n",
    "* __rating__ - the user's rating towards the item\n",
    "* __review__ - the user's review towards the item\n",
    "* __item__ - the item's name\n",
    "* __category__ - the category of the item\n",
    "* __helpfulness__ - the average helpfulness of this rating\n",
    "* __timestamp__ - the timestamp when the rating is created\n",
    "* __item_id__ - the item's id\n",
    "* __item_price__ - the item's price\n",
    "* __user_city__ - the city of user's birth\n",
    "\n",
    "Note that, a user may rate multiple items and an item may receive ratings and reviews from multiple users. The \"helpfulness\" is an average value based on all the helpfulness values given by others.\n",
    "\n",
    "There are four questions to explore with the data as shown below.\n",
    "\n",
    "\n",
    "\n",
    "<img src=\"data-relation.png\" align=\"left\" width=\"400\"/>\n",
    "(You can find the data relation diagram on iLearn - Portfolio Part 1 resources - Fig1)\n"
   ]
  },
  {
   "cell_type": "code",
   "execution_count": 1,
   "id": "ca481ad8-8211-4e0c-8524-0063a33e17ad",
   "metadata": {},
   "outputs": [],
   "source": [
    "import numpy as np\n",
    "import pandas as pd\n",
    "import seaborn as sns\n",
    "import matplotlib.pyplot as plt\n",
    "%matplotlib inline"
   ]
  },
  {
   "cell_type": "code",
   "execution_count": 2,
   "id": "c8b1985a-9dd3-4dbe-95dc-1d2c387afd1d",
   "metadata": {},
   "outputs": [],
   "source": [
    "#Read the CSV file provided\n",
    "ecom_data = pd.read_csv('The E-commerce Dataset.csv')"
   ]
  },
  {
   "cell_type": "code",
   "execution_count": 3,
   "id": "e9a9d251-1b05-4c82-8b0c-743f31959e10",
   "metadata": {},
   "outputs": [
    {
     "data": {
      "text/html": [
       "<div>\n",
       "<style scoped>\n",
       "    .dataframe tbody tr th:only-of-type {\n",
       "        vertical-align: middle;\n",
       "    }\n",
       "\n",
       "    .dataframe tbody tr th {\n",
       "        vertical-align: top;\n",
       "    }\n",
       "\n",
       "    .dataframe thead th {\n",
       "        text-align: right;\n",
       "    }\n",
       "</style>\n",
       "<table border=\"1\" class=\"dataframe\">\n",
       "  <thead>\n",
       "    <tr style=\"text-align: right;\">\n",
       "      <th></th>\n",
       "      <th>userId</th>\n",
       "      <th>timestamp</th>\n",
       "      <th>review</th>\n",
       "      <th>item</th>\n",
       "      <th>rating</th>\n",
       "      <th>helpfulness</th>\n",
       "      <th>gender</th>\n",
       "      <th>category</th>\n",
       "      <th>item_id</th>\n",
       "      <th>item_price</th>\n",
       "      <th>user_city</th>\n",
       "    </tr>\n",
       "  </thead>\n",
       "  <tbody>\n",
       "    <tr>\n",
       "      <th>0</th>\n",
       "      <td>4051</td>\n",
       "      <td>12807</td>\n",
       "      <td>Great job for what it is!</td>\n",
       "      <td>eBay</td>\n",
       "      <td>5.0</td>\n",
       "      <td>2.0</td>\n",
       "      <td>F</td>\n",
       "      <td>Online Stores &amp; Services</td>\n",
       "      <td>88</td>\n",
       "      <td>149.00</td>\n",
       "      <td>39</td>\n",
       "    </tr>\n",
       "    <tr>\n",
       "      <th>1</th>\n",
       "      <td>4052</td>\n",
       "      <td>122899</td>\n",
       "      <td>Free Access Worth your Time</td>\n",
       "      <td>NetZero</td>\n",
       "      <td>5.0</td>\n",
       "      <td>0.0</td>\n",
       "      <td>F</td>\n",
       "      <td>Online Stores &amp; Services</td>\n",
       "      <td>46</td>\n",
       "      <td>53.00</td>\n",
       "      <td>39</td>\n",
       "    </tr>\n",
       "    <tr>\n",
       "      <th>2</th>\n",
       "      <td>33</td>\n",
       "      <td>12700</td>\n",
       "      <td>AOL..I love you!!!!!!!!!!!!</td>\n",
       "      <td>AOL (America Online)</td>\n",
       "      <td>5.0</td>\n",
       "      <td>4.0</td>\n",
       "      <td>F</td>\n",
       "      <td>Online Stores &amp; Services</td>\n",
       "      <td>0</td>\n",
       "      <td>145.84</td>\n",
       "      <td>31</td>\n",
       "    </tr>\n",
       "    <tr>\n",
       "      <th>3</th>\n",
       "      <td>33</td>\n",
       "      <td>21000</td>\n",
       "      <td>EBAY!!!  I LOVE YOU!!!! :-)*</td>\n",
       "      <td>eBay</td>\n",
       "      <td>5.0</td>\n",
       "      <td>4.0</td>\n",
       "      <td>F</td>\n",
       "      <td>Online Stores &amp; Services</td>\n",
       "      <td>88</td>\n",
       "      <td>149.00</td>\n",
       "      <td>31</td>\n",
       "    </tr>\n",
       "    <tr>\n",
       "      <th>4</th>\n",
       "      <td>33</td>\n",
       "      <td>22300</td>\n",
       "      <td>Blair Witch...Oh Come On.......</td>\n",
       "      <td>Blair Witch Project</td>\n",
       "      <td>1.0</td>\n",
       "      <td>4.0</td>\n",
       "      <td>F</td>\n",
       "      <td>Movies</td>\n",
       "      <td>12</td>\n",
       "      <td>44.00</td>\n",
       "      <td>31</td>\n",
       "    </tr>\n",
       "    <tr>\n",
       "      <th>5</th>\n",
       "      <td>33</td>\n",
       "      <td>30100</td>\n",
       "      <td>What is the &amp;quot;Matrix&amp;quot; Great Movie</td>\n",
       "      <td>Matrix</td>\n",
       "      <td>4.0</td>\n",
       "      <td>0.0</td>\n",
       "      <td>F</td>\n",
       "      <td>Movies</td>\n",
       "      <td>40</td>\n",
       "      <td>24.51</td>\n",
       "      <td>31</td>\n",
       "    </tr>\n",
       "    <tr>\n",
       "      <th>6</th>\n",
       "      <td>33</td>\n",
       "      <td>32100</td>\n",
       "      <td>Go down under Mateys!!!!!</td>\n",
       "      <td>Outback Steakhouse</td>\n",
       "      <td>5.0</td>\n",
       "      <td>4.0</td>\n",
       "      <td>F</td>\n",
       "      <td>Restaurants &amp; Gourmet</td>\n",
       "      <td>50</td>\n",
       "      <td>25.00</td>\n",
       "      <td>31</td>\n",
       "    </tr>\n",
       "    <tr>\n",
       "      <th>7</th>\n",
       "      <td>33</td>\n",
       "      <td>52800</td>\n",
       "      <td>E-commerce..what do I do???</td>\n",
       "      <td>PayPal</td>\n",
       "      <td>4.0</td>\n",
       "      <td>0.0</td>\n",
       "      <td>F</td>\n",
       "      <td>Personal Finance</td>\n",
       "      <td>52</td>\n",
       "      <td>38.00</td>\n",
       "      <td>31</td>\n",
       "    </tr>\n",
       "    <tr>\n",
       "      <th>8</th>\n",
       "      <td>33</td>\n",
       "      <td>52800</td>\n",
       "      <td>A man who remade himself..</td>\n",
       "      <td>Wendy's</td>\n",
       "      <td>5.0</td>\n",
       "      <td>0.0</td>\n",
       "      <td>F</td>\n",
       "      <td>Restaurants &amp; Gourmet</td>\n",
       "      <td>84</td>\n",
       "      <td>69.00</td>\n",
       "      <td>31</td>\n",
       "    </tr>\n",
       "    <tr>\n",
       "      <th>9</th>\n",
       "      <td>4053</td>\n",
       "      <td>22304</td>\n",
       "      <td>The best on the web.</td>\n",
       "      <td>Amazon.com</td>\n",
       "      <td>5.0</td>\n",
       "      <td>3.0</td>\n",
       "      <td>F</td>\n",
       "      <td>Online Stores &amp; Services</td>\n",
       "      <td>3</td>\n",
       "      <td>129.82</td>\n",
       "      <td>22</td>\n",
       "    </tr>\n",
       "  </tbody>\n",
       "</table>\n",
       "</div>"
      ],
      "text/plain": [
       "   userId  timestamp                                      review  \\\n",
       "0    4051      12807                   Great job for what it is!   \n",
       "1    4052     122899                 Free Access Worth your Time   \n",
       "2      33      12700               AOL..I love you!!!!!!!!!!!!     \n",
       "3      33      21000                EBAY!!!  I LOVE YOU!!!! :-)*   \n",
       "4      33      22300             Blair Witch...Oh Come On.......   \n",
       "5      33      30100  What is the &quot;Matrix&quot; Great Movie   \n",
       "6      33      32100                   Go down under Mateys!!!!!   \n",
       "7      33      52800                 E-commerce..what do I do???   \n",
       "8      33      52800                  A man who remade himself..   \n",
       "9    4053      22304                        The best on the web.   \n",
       "\n",
       "                   item  rating  helpfulness gender                  category  \\\n",
       "0                  eBay     5.0          2.0      F  Online Stores & Services   \n",
       "1               NetZero     5.0          0.0      F  Online Stores & Services   \n",
       "2  AOL (America Online)     5.0          4.0      F  Online Stores & Services   \n",
       "3                  eBay     5.0          4.0      F  Online Stores & Services   \n",
       "4   Blair Witch Project     1.0          4.0      F                    Movies   \n",
       "5                Matrix     4.0          0.0      F                    Movies   \n",
       "6    Outback Steakhouse     5.0          4.0      F     Restaurants & Gourmet   \n",
       "7                PayPal     4.0          0.0      F          Personal Finance   \n",
       "8               Wendy's     5.0          0.0      F     Restaurants & Gourmet   \n",
       "9            Amazon.com     5.0          3.0      F  Online Stores & Services   \n",
       "\n",
       "   item_id  item_price  user_city  \n",
       "0       88      149.00         39  \n",
       "1       46       53.00         39  \n",
       "2        0      145.84         31  \n",
       "3       88      149.00         31  \n",
       "4       12       44.00         31  \n",
       "5       40       24.51         31  \n",
       "6       50       25.00         31  \n",
       "7       52       38.00         31  \n",
       "8       84       69.00         31  \n",
       "9        3      129.82         22  "
      ]
     },
     "execution_count": 3,
     "metadata": {},
     "output_type": "execute_result"
    }
   ],
   "source": [
    "#display first ten rows from the dataset\n",
    "ecom_data.head(10)"
   ]
  },
  {
   "cell_type": "code",
   "execution_count": 4,
   "id": "d18bcadf-3905-4096-8e35-b9fbac5953e6",
   "metadata": {},
   "outputs": [
    {
     "data": {
      "text/html": [
       "<div>\n",
       "<style scoped>\n",
       "    .dataframe tbody tr th:only-of-type {\n",
       "        vertical-align: middle;\n",
       "    }\n",
       "\n",
       "    .dataframe tbody tr th {\n",
       "        vertical-align: top;\n",
       "    }\n",
       "\n",
       "    .dataframe thead th {\n",
       "        text-align: right;\n",
       "    }\n",
       "</style>\n",
       "<table border=\"1\" class=\"dataframe\">\n",
       "  <thead>\n",
       "    <tr style=\"text-align: right;\">\n",
       "      <th></th>\n",
       "      <th>userId</th>\n",
       "      <th>timestamp</th>\n",
       "      <th>review</th>\n",
       "      <th>item</th>\n",
       "      <th>rating</th>\n",
       "      <th>helpfulness</th>\n",
       "      <th>gender</th>\n",
       "      <th>category</th>\n",
       "      <th>item_id</th>\n",
       "      <th>item_price</th>\n",
       "      <th>user_city</th>\n",
       "    </tr>\n",
       "  </thead>\n",
       "  <tbody>\n",
       "    <tr>\n",
       "      <th>19995</th>\n",
       "      <td>10805</td>\n",
       "      <td>50600</td>\n",
       "      <td>The Upper Class Fast Food</td>\n",
       "      <td>Wendy's</td>\n",
       "      <td>2.0</td>\n",
       "      <td>3.0</td>\n",
       "      <td>F</td>\n",
       "      <td>Restaurants &amp; Gourmet</td>\n",
       "      <td>84</td>\n",
       "      <td>69.0</td>\n",
       "      <td>18</td>\n",
       "    </tr>\n",
       "    <tr>\n",
       "      <th>19996</th>\n",
       "      <td>10806</td>\n",
       "      <td>82201</td>\n",
       "      <td>What more can you ask for????</td>\n",
       "      <td>Olive Garden</td>\n",
       "      <td>4.0</td>\n",
       "      <td>0.0</td>\n",
       "      <td>M</td>\n",
       "      <td>Restaurants &amp; Gourmet</td>\n",
       "      <td>49</td>\n",
       "      <td>32.0</td>\n",
       "      <td>28</td>\n",
       "    </tr>\n",
       "    <tr>\n",
       "      <th>19997</th>\n",
       "      <td>10806</td>\n",
       "      <td>82201</td>\n",
       "      <td>Excellent steak for a good price</td>\n",
       "      <td>Outback Steakhouse</td>\n",
       "      <td>4.0</td>\n",
       "      <td>3.0</td>\n",
       "      <td>M</td>\n",
       "      <td>Restaurants &amp; Gourmet</td>\n",
       "      <td>50</td>\n",
       "      <td>25.0</td>\n",
       "      <td>28</td>\n",
       "    </tr>\n",
       "    <tr>\n",
       "      <th>19998</th>\n",
       "      <td>10807</td>\n",
       "      <td>31504</td>\n",
       "      <td>Different story world</td>\n",
       "      <td>J. K. Rowling - Harry Potter and the Sorcerer'...</td>\n",
       "      <td>4.0</td>\n",
       "      <td>0.0</td>\n",
       "      <td>M</td>\n",
       "      <td>Books</td>\n",
       "      <td>36</td>\n",
       "      <td>96.0</td>\n",
       "      <td>27</td>\n",
       "    </tr>\n",
       "    <tr>\n",
       "      <th>19999</th>\n",
       "      <td>10808</td>\n",
       "      <td>10200</td>\n",
       "      <td>Boldly Displaying Sigourneys Cleavage ..</td>\n",
       "      <td>Galaxy Quest</td>\n",
       "      <td>4.0</td>\n",
       "      <td>0.0</td>\n",
       "      <td>M</td>\n",
       "      <td>Movies</td>\n",
       "      <td>29</td>\n",
       "      <td>67.0</td>\n",
       "      <td>11</td>\n",
       "    </tr>\n",
       "  </tbody>\n",
       "</table>\n",
       "</div>"
      ],
      "text/plain": [
       "       userId  timestamp                                    review  \\\n",
       "19995   10805      50600                 The Upper Class Fast Food   \n",
       "19996   10806      82201             What more can you ask for????   \n",
       "19997   10806      82201          Excellent steak for a good price   \n",
       "19998   10807      31504                     Different story world   \n",
       "19999   10808      10200  Boldly Displaying Sigourneys Cleavage ..   \n",
       "\n",
       "                                                    item  rating  helpfulness  \\\n",
       "19995                                            Wendy's     2.0          3.0   \n",
       "19996                                       Olive Garden     4.0          0.0   \n",
       "19997                                 Outback Steakhouse     4.0          3.0   \n",
       "19998  J. K. Rowling - Harry Potter and the Sorcerer'...     4.0          0.0   \n",
       "19999                                       Galaxy Quest     4.0          0.0   \n",
       "\n",
       "      gender               category  item_id  item_price  user_city  \n",
       "19995      F  Restaurants & Gourmet       84        69.0         18  \n",
       "19996      M  Restaurants & Gourmet       49        32.0         28  \n",
       "19997      M  Restaurants & Gourmet       50        25.0         28  \n",
       "19998      M                  Books       36        96.0         27  \n",
       "19999      M                 Movies       29        67.0         11  "
      ]
     },
     "execution_count": 4,
     "metadata": {},
     "output_type": "execute_result"
    }
   ],
   "source": [
    "#gives the last five rows from the dataset\n",
    "ecom_data.tail()"
   ]
  },
  {
   "cell_type": "code",
   "execution_count": 5,
   "id": "ffd18592-0865-4756-af24-36a7e421f3e9",
   "metadata": {},
   "outputs": [
    {
     "name": "stdout",
     "output_type": "stream",
     "text": [
      "<class 'pandas.core.frame.DataFrame'>\n",
      "RangeIndex: 20000 entries, 0 to 19999\n",
      "Data columns (total 11 columns):\n",
      " #   Column       Non-Null Count  Dtype  \n",
      "---  ------       --------------  -----  \n",
      " 0   userId       20000 non-null  int64  \n",
      " 1   timestamp    20000 non-null  int64  \n",
      " 2   review       20000 non-null  object \n",
      " 3   item         20000 non-null  object \n",
      " 4   rating       19983 non-null  float64\n",
      " 5   helpfulness  19978 non-null  float64\n",
      " 6   gender       19973 non-null  object \n",
      " 7   category     20000 non-null  object \n",
      " 8   item_id      20000 non-null  int64  \n",
      " 9   item_price   20000 non-null  float64\n",
      " 10  user_city    20000 non-null  int64  \n",
      "dtypes: float64(3), int64(4), object(4)\n",
      "memory usage: 1.7+ MB\n"
     ]
    }
   ],
   "source": [
    "ecom_data.info()"
   ]
  },
  {
   "cell_type": "code",
   "execution_count": 6,
   "id": "cfe61701-ceb1-4f41-a8b5-6c1b5ed19b5d",
   "metadata": {},
   "outputs": [
    {
     "data": {
      "text/plain": [
       "(20000, 11)"
      ]
     },
     "execution_count": 6,
     "metadata": {},
     "output_type": "execute_result"
    }
   ],
   "source": [
    "#shape of dataframe\n",
    "ecom_data.shape"
   ]
  },
  {
   "cell_type": "code",
   "execution_count": 7,
   "id": "87a04d9a-1476-41a6-8b57-328365f17fb2",
   "metadata": {},
   "outputs": [
    {
     "data": {
      "text/plain": [
       "((10154, 11), (9819, 11))"
      ]
     },
     "execution_count": 7,
     "metadata": {},
     "output_type": "execute_result"
    }
   ],
   "source": [
    "#size of male and female\n",
    "males = ecom_data[ecom_data.gender == 'M']\n",
    "females = ecom_data[ecom_data.gender == 'F']\n",
    "males.shape, females.shape"
   ]
  },
  {
   "cell_type": "markdown",
   "id": "-tb7B7VTqndQ",
   "metadata": {
    "id": "-tb7B7VTqndQ"
   },
   "source": [
    " #### Q1. Remove missing data\n",
    "\n",
    "Please remove the following records in the csv file:\n",
    "\n",
    " * gender/rating/helpfulness is missing\n",
    " * review is 'none'\n",
    "\n",
    "__Display the DataFrame, counting number of Null values in each column, and print the length of the data__ before and after removing the missing data.  "
   ]
  },
  {
   "cell_type": "code",
   "execution_count": 8,
   "id": "1ecn6H9VqndQ",
   "metadata": {
    "id": "1ecn6H9VqndQ"
   },
   "outputs": [
    {
     "name": "stdout",
     "output_type": "stream",
     "text": [
      "True\n"
     ]
    },
    {
     "data": {
      "text/plain": [
       "27"
      ]
     },
     "execution_count": 8,
     "metadata": {},
     "output_type": "execute_result"
    }
   ],
   "source": [
    "# your code and solutions\n",
    "#check for null values in gender\n",
    "print(ecom_data.gender.isnull().values.any())\n",
    "#printing sum of null values for gender\n",
    "ecom_data.gender.isnull().sum()"
   ]
  },
  {
   "cell_type": "code",
   "execution_count": 9,
   "id": "600ff247-ed4a-434c-b6ad-c23a6f4a4ca0",
   "metadata": {},
   "outputs": [
    {
     "name": "stdout",
     "output_type": "stream",
     "text": [
      "True\n"
     ]
    },
    {
     "data": {
      "text/plain": [
       "17"
      ]
     },
     "execution_count": 9,
     "metadata": {},
     "output_type": "execute_result"
    }
   ],
   "source": [
    "#check for null values in rating\n",
    "#printing sum of null values for rating\n",
    "print(ecom_data.rating.isnull().values.any())\n",
    "ecom_data.rating.isnull().sum()"
   ]
  },
  {
   "cell_type": "code",
   "execution_count": 10,
   "id": "74486751-59d5-42e8-9eee-eac15975419a",
   "metadata": {},
   "outputs": [
    {
     "name": "stdout",
     "output_type": "stream",
     "text": [
      "True\n"
     ]
    },
    {
     "data": {
      "text/plain": [
       "22"
      ]
     },
     "execution_count": 10,
     "metadata": {},
     "output_type": "execute_result"
    }
   ],
   "source": [
    "#check for null values in helpfulness\n",
    "#printing sum of null values for helpfulness\n",
    "print(ecom_data.helpfulness.isnull().values.any())\n",
    "ecom_data.helpfulness.isnull().sum()"
   ]
  },
  {
   "cell_type": "code",
   "execution_count": 11,
   "id": "b062acca-da77-4f91-a39f-4d23188325d4",
   "metadata": {},
   "outputs": [
    {
     "data": {
      "text/plain": [
       "18"
      ]
     },
     "execution_count": 11,
     "metadata": {},
     "output_type": "execute_result"
    }
   ],
   "source": [
    "#printing sum of null data for review\n",
    "Review = ecom_data.review =='none' \n",
    "Review.sum()"
   ]
  },
  {
   "cell_type": "code",
   "execution_count": 12,
   "id": "fc471789-4712-416e-b511-1269b8a16264",
   "metadata": {},
   "outputs": [
    {
     "data": {
      "text/plain": [
       "userId          0\n",
       "timestamp       0\n",
       "review          0\n",
       "item            0\n",
       "rating         17\n",
       "helpfulness    22\n",
       "gender         27\n",
       "category        0\n",
       "item_id         0\n",
       "item_price      0\n",
       "user_city       0\n",
       "dtype: int64"
      ]
     },
     "execution_count": 12,
     "metadata": {},
     "output_type": "execute_result"
    }
   ],
   "source": [
    "#checking for null values in the dataframe\n",
    "ecom_data.isnull().sum()"
   ]
  },
  {
   "cell_type": "code",
   "execution_count": 13,
   "id": "1f122a4f-6085-4e32-aa4e-ced8a3a5ee63",
   "metadata": {},
   "outputs": [
    {
     "name": "stdout",
     "output_type": "stream",
     "text": [
      "The length of the data before removing missing values is  20000\n"
     ]
    }
   ],
   "source": [
    "#print the length of the data before removing missing values\n",
    "print('The length of the data before removing missing values is ', len(ecom_data))  "
   ]
  },
  {
   "cell_type": "code",
   "execution_count": 14,
   "id": "b9cebda9-41dd-4a71-a785-d6a08479136e",
   "metadata": {},
   "outputs": [
    {
     "name": "stdout",
     "output_type": "stream",
     "text": [
      "Index([  438,  1222,  2587,  2863,  6284,  7569,  9230,  9438, 11046, 12221,\n",
      "       14310, 14601, 14803, 16646, 17495, 18286, 18625, 18925],\n",
      "      dtype='int64')\n"
     ]
    }
   ],
   "source": [
    "# Printing the index of review where null values are present\n",
    "remove_index = (ecom_data.review.index[(ecom_data.review == 'none')])\n",
    "print(remove_index)"
   ]
  },
  {
   "cell_type": "code",
   "execution_count": 15,
   "id": "526252a0-a48e-4b8a-8152-547597d6989b",
   "metadata": {},
   "outputs": [
    {
     "name": "stdout",
     "output_type": "stream",
     "text": [
      "66\n"
     ]
    },
    {
     "data": {
      "text/html": [
       "<div>\n",
       "<style scoped>\n",
       "    .dataframe tbody tr th:only-of-type {\n",
       "        vertical-align: middle;\n",
       "    }\n",
       "\n",
       "    .dataframe tbody tr th {\n",
       "        vertical-align: top;\n",
       "    }\n",
       "\n",
       "    .dataframe thead th {\n",
       "        text-align: right;\n",
       "    }\n",
       "</style>\n",
       "<table border=\"1\" class=\"dataframe\">\n",
       "  <thead>\n",
       "    <tr style=\"text-align: right;\">\n",
       "      <th></th>\n",
       "      <th>userId</th>\n",
       "      <th>timestamp</th>\n",
       "      <th>review</th>\n",
       "      <th>item</th>\n",
       "      <th>rating</th>\n",
       "      <th>helpfulness</th>\n",
       "      <th>gender</th>\n",
       "      <th>category</th>\n",
       "      <th>item_id</th>\n",
       "      <th>item_price</th>\n",
       "      <th>user_city</th>\n",
       "    </tr>\n",
       "  </thead>\n",
       "  <tbody>\n",
       "    <tr>\n",
       "      <th>96</th>\n",
       "      <td>4083</td>\n",
       "      <td>92100</td>\n",
       "      <td>A great time to get it!</td>\n",
       "      <td>Final Fantasy VIII for PlayStation 1</td>\n",
       "      <td>5.0</td>\n",
       "      <td>0.0</td>\n",
       "      <td>NaN</td>\n",
       "      <td>Games</td>\n",
       "      <td>27</td>\n",
       "      <td>136.05</td>\n",
       "      <td>17</td>\n",
       "    </tr>\n",
       "    <tr>\n",
       "      <th>111</th>\n",
       "      <td>4087</td>\n",
       "      <td>11200</td>\n",
       "      <td>A must play game</td>\n",
       "      <td>The Legend Of Zelda Ocarina Of Time for Ninten...</td>\n",
       "      <td>5.0</td>\n",
       "      <td>0.0</td>\n",
       "      <td>NaN</td>\n",
       "      <td>Games</td>\n",
       "      <td>77</td>\n",
       "      <td>59.00</td>\n",
       "      <td>1</td>\n",
       "    </tr>\n",
       "    <tr>\n",
       "      <th>942</th>\n",
       "      <td>4381</td>\n",
       "      <td>53001</td>\n",
       "      <td>So-so cake with great frosting</td>\n",
       "      <td>Pearl Harbor</td>\n",
       "      <td>3.0</td>\n",
       "      <td>4.0</td>\n",
       "      <td>NaN</td>\n",
       "      <td>Movies</td>\n",
       "      <td>53</td>\n",
       "      <td>141.75</td>\n",
       "      <td>16</td>\n",
       "    </tr>\n",
       "    <tr>\n",
       "      <th>1329</th>\n",
       "      <td>4497</td>\n",
       "      <td>52700</td>\n",
       "      <td>McLicious</td>\n",
       "      <td>McDonald's</td>\n",
       "      <td>5.0</td>\n",
       "      <td>NaN</td>\n",
       "      <td>F</td>\n",
       "      <td>Restaurants &amp; Gourmet</td>\n",
       "      <td>41</td>\n",
       "      <td>30.74</td>\n",
       "      <td>23</td>\n",
       "    </tr>\n",
       "    <tr>\n",
       "      <th>1442</th>\n",
       "      <td>194</td>\n",
       "      <td>52600</td>\n",
       "      <td>Crowe Unleashed</td>\n",
       "      <td>Gladiator</td>\n",
       "      <td>NaN</td>\n",
       "      <td>0.0</td>\n",
       "      <td>M</td>\n",
       "      <td>Movies</td>\n",
       "      <td>30</td>\n",
       "      <td>65.17</td>\n",
       "      <td>8</td>\n",
       "    </tr>\n",
       "    <tr>\n",
       "      <th>...</th>\n",
       "      <td>...</td>\n",
       "      <td>...</td>\n",
       "      <td>...</td>\n",
       "      <td>...</td>\n",
       "      <td>...</td>\n",
       "      <td>...</td>\n",
       "      <td>...</td>\n",
       "      <td>...</td>\n",
       "      <td>...</td>\n",
       "      <td>...</td>\n",
       "      <td>...</td>\n",
       "    </tr>\n",
       "    <tr>\n",
       "      <th>17747</th>\n",
       "      <td>10107</td>\n",
       "      <td>81900</td>\n",
       "      <td>As addictive as Civilization II</td>\n",
       "      <td>The Sims 2: Open for Business for Windows</td>\n",
       "      <td>5.0</td>\n",
       "      <td>4.0</td>\n",
       "      <td>NaN</td>\n",
       "      <td>Games</td>\n",
       "      <td>79</td>\n",
       "      <td>27.00</td>\n",
       "      <td>0</td>\n",
       "    </tr>\n",
       "    <tr>\n",
       "      <th>17766</th>\n",
       "      <td>10116</td>\n",
       "      <td>112599</td>\n",
       "      <td>the best!!!</td>\n",
       "      <td>Delta Air Lines</td>\n",
       "      <td>5.0</td>\n",
       "      <td>0.0</td>\n",
       "      <td>NaN</td>\n",
       "      <td>Hotels &amp; Travel</td>\n",
       "      <td>20</td>\n",
       "      <td>116.00</td>\n",
       "      <td>23</td>\n",
       "    </tr>\n",
       "    <tr>\n",
       "      <th>17773</th>\n",
       "      <td>10119</td>\n",
       "      <td>81601</td>\n",
       "      <td>There's no place quite like Las Vegas.</td>\n",
       "      <td>Las Vegas</td>\n",
       "      <td>NaN</td>\n",
       "      <td>0.0</td>\n",
       "      <td>F</td>\n",
       "      <td>Hotels &amp; Travel</td>\n",
       "      <td>37</td>\n",
       "      <td>35.31</td>\n",
       "      <td>32</td>\n",
       "    </tr>\n",
       "    <tr>\n",
       "      <th>18231</th>\n",
       "      <td>10274</td>\n",
       "      <td>121599</td>\n",
       "      <td>Have Spedia?  Want To Try Spedia?  Read This F...</td>\n",
       "      <td>Spedia</td>\n",
       "      <td>2.0</td>\n",
       "      <td>4.0</td>\n",
       "      <td>NaN</td>\n",
       "      <td>Online Stores &amp; Services</td>\n",
       "      <td>70</td>\n",
       "      <td>58.32</td>\n",
       "      <td>5</td>\n",
       "    </tr>\n",
       "    <tr>\n",
       "      <th>19093</th>\n",
       "      <td>2435</td>\n",
       "      <td>102800</td>\n",
       "      <td>WOW!!!!!</td>\n",
       "      <td>Sony PlayStation 2 Slimline Console</td>\n",
       "      <td>5.0</td>\n",
       "      <td>NaN</td>\n",
       "      <td>F</td>\n",
       "      <td>Games</td>\n",
       "      <td>67</td>\n",
       "      <td>71.52</td>\n",
       "      <td>16</td>\n",
       "    </tr>\n",
       "  </tbody>\n",
       "</table>\n",
       "<p>66 rows × 11 columns</p>\n",
       "</div>"
      ],
      "text/plain": [
       "       userId  timestamp                                             review  \\\n",
       "96       4083      92100                            A great time to get it!   \n",
       "111      4087      11200                                   A must play game   \n",
       "942      4381      53001                     So-so cake with great frosting   \n",
       "1329     4497      52700                                          McLicious   \n",
       "1442      194      52600                                    Crowe Unleashed   \n",
       "...       ...        ...                                                ...   \n",
       "17747   10107      81900                    As addictive as Civilization II   \n",
       "17766   10116     112599                                        the best!!!   \n",
       "17773   10119      81601             There's no place quite like Las Vegas.   \n",
       "18231   10274     121599  Have Spedia?  Want To Try Spedia?  Read This F...   \n",
       "19093    2435     102800                                           WOW!!!!!   \n",
       "\n",
       "                                                    item  rating  helpfulness  \\\n",
       "96                  Final Fantasy VIII for PlayStation 1     5.0          0.0   \n",
       "111    The Legend Of Zelda Ocarina Of Time for Ninten...     5.0          0.0   \n",
       "942                                         Pearl Harbor     3.0          4.0   \n",
       "1329                                          McDonald's     5.0          NaN   \n",
       "1442                                           Gladiator     NaN          0.0   \n",
       "...                                                  ...     ...          ...   \n",
       "17747          The Sims 2: Open for Business for Windows     5.0          4.0   \n",
       "17766                                    Delta Air Lines     5.0          0.0   \n",
       "17773                                          Las Vegas     NaN          0.0   \n",
       "18231                                             Spedia     2.0          4.0   \n",
       "19093                Sony PlayStation 2 Slimline Console     5.0          NaN   \n",
       "\n",
       "      gender                  category  item_id  item_price  user_city  \n",
       "96       NaN                     Games       27      136.05         17  \n",
       "111      NaN                     Games       77       59.00          1  \n",
       "942      NaN                    Movies       53      141.75         16  \n",
       "1329       F     Restaurants & Gourmet       41       30.74         23  \n",
       "1442       M                    Movies       30       65.17          8  \n",
       "...      ...                       ...      ...         ...        ...  \n",
       "17747    NaN                     Games       79       27.00          0  \n",
       "17766    NaN           Hotels & Travel       20      116.00         23  \n",
       "17773      F           Hotels & Travel       37       35.31         32  \n",
       "18231    NaN  Online Stores & Services       70       58.32          5  \n",
       "19093      F                     Games       67       71.52         16  \n",
       "\n",
       "[66 rows x 11 columns]"
      ]
     },
     "execution_count": 15,
     "metadata": {},
     "output_type": "execute_result"
    }
   ],
   "source": [
    "# printing and displaying the total null values present in dataframe from rating,gender, and helpfulness\n",
    "indexes_with_na = ecom_data[ecom_data.isna().any(axis=1)]\n",
    "print(len(indexes_with_na))\n",
    "indexes_with_na.head(70)"
   ]
  },
  {
   "cell_type": "code",
   "execution_count": 16,
   "id": "69ada8c3-ab66-475c-a258-9ace46fcf8d1",
   "metadata": {},
   "outputs": [
    {
     "name": "stdout",
     "output_type": "stream",
     "text": [
      "The length after removing none from review is  19982\n"
     ]
    }
   ],
   "source": [
    "#drop the null values from the review column\n",
    "new_data = ecom_data.drop(ecom_data.review.index[(ecom_data.review == 'none')])\n",
    "print('The length after removing none from review is ', len(new_data)) "
   ]
  },
  {
   "cell_type": "code",
   "execution_count": 17,
   "id": "5f065083-4b0e-40ad-8016-eaabd6cbc4c2",
   "metadata": {},
   "outputs": [
    {
     "data": {
      "text/plain": [
       "(19982, 11)"
      ]
     },
     "execution_count": 17,
     "metadata": {},
     "output_type": "execute_result"
    }
   ],
   "source": [
    "#display shape of new dataframe\n",
    "new_data.shape"
   ]
  },
  {
   "cell_type": "code",
   "execution_count": 18,
   "id": "fa0a3d31-6efc-4cde-8f81-228e2522cd94",
   "metadata": {},
   "outputs": [
    {
     "name": "stdout",
     "output_type": "stream",
     "text": [
      "The length after removing NA is  19916\n"
     ]
    }
   ],
   "source": [
    "# remove null values from the new dataframe new_data\n",
    "# print the length of the new dataframe after removing null values\n",
    "clean_data = new_data.dropna()\n",
    "print('The length after removing NA is ', len(clean_data)) "
   ]
  },
  {
   "cell_type": "code",
   "execution_count": 19,
   "id": "ff523be0-0011-4dc5-be9a-4d8ec7594773",
   "metadata": {},
   "outputs": [
    {
     "data": {
      "text/plain": [
       "userId         0\n",
       "timestamp      0\n",
       "review         0\n",
       "item           0\n",
       "rating         0\n",
       "helpfulness    0\n",
       "gender         0\n",
       "category       0\n",
       "item_id        0\n",
       "item_price     0\n",
       "user_city      0\n",
       "dtype: int64"
      ]
     },
     "execution_count": 19,
     "metadata": {},
     "output_type": "execute_result"
    }
   ],
   "source": [
    "#check for any null values in clean dataframe\n",
    "clean_data.isnull().sum()"
   ]
  },
  {
   "cell_type": "code",
   "execution_count": 20,
   "id": "cd999e9e-0476-42a5-8a80-e67ba263728a",
   "metadata": {},
   "outputs": [
    {
     "data": {
      "text/html": [
       "<div>\n",
       "<style scoped>\n",
       "    .dataframe tbody tr th:only-of-type {\n",
       "        vertical-align: middle;\n",
       "    }\n",
       "\n",
       "    .dataframe tbody tr th {\n",
       "        vertical-align: top;\n",
       "    }\n",
       "\n",
       "    .dataframe thead th {\n",
       "        text-align: right;\n",
       "    }\n",
       "</style>\n",
       "<table border=\"1\" class=\"dataframe\">\n",
       "  <thead>\n",
       "    <tr style=\"text-align: right;\">\n",
       "      <th></th>\n",
       "      <th>userId</th>\n",
       "      <th>timestamp</th>\n",
       "      <th>review</th>\n",
       "      <th>item</th>\n",
       "      <th>rating</th>\n",
       "      <th>helpfulness</th>\n",
       "      <th>gender</th>\n",
       "      <th>category</th>\n",
       "      <th>item_id</th>\n",
       "      <th>item_price</th>\n",
       "      <th>user_city</th>\n",
       "    </tr>\n",
       "  </thead>\n",
       "  <tbody>\n",
       "    <tr>\n",
       "      <th>0</th>\n",
       "      <td>4051</td>\n",
       "      <td>12807</td>\n",
       "      <td>Great job for what it is!</td>\n",
       "      <td>eBay</td>\n",
       "      <td>5.0</td>\n",
       "      <td>2.0</td>\n",
       "      <td>F</td>\n",
       "      <td>Online Stores &amp; Services</td>\n",
       "      <td>88</td>\n",
       "      <td>149.00</td>\n",
       "      <td>39</td>\n",
       "    </tr>\n",
       "    <tr>\n",
       "      <th>1</th>\n",
       "      <td>4052</td>\n",
       "      <td>122899</td>\n",
       "      <td>Free Access Worth your Time</td>\n",
       "      <td>NetZero</td>\n",
       "      <td>5.0</td>\n",
       "      <td>0.0</td>\n",
       "      <td>F</td>\n",
       "      <td>Online Stores &amp; Services</td>\n",
       "      <td>46</td>\n",
       "      <td>53.00</td>\n",
       "      <td>39</td>\n",
       "    </tr>\n",
       "    <tr>\n",
       "      <th>2</th>\n",
       "      <td>33</td>\n",
       "      <td>12700</td>\n",
       "      <td>AOL..I love you!!!!!!!!!!!!</td>\n",
       "      <td>AOL (America Online)</td>\n",
       "      <td>5.0</td>\n",
       "      <td>4.0</td>\n",
       "      <td>F</td>\n",
       "      <td>Online Stores &amp; Services</td>\n",
       "      <td>0</td>\n",
       "      <td>145.84</td>\n",
       "      <td>31</td>\n",
       "    </tr>\n",
       "    <tr>\n",
       "      <th>3</th>\n",
       "      <td>33</td>\n",
       "      <td>21000</td>\n",
       "      <td>EBAY!!!  I LOVE YOU!!!! :-)*</td>\n",
       "      <td>eBay</td>\n",
       "      <td>5.0</td>\n",
       "      <td>4.0</td>\n",
       "      <td>F</td>\n",
       "      <td>Online Stores &amp; Services</td>\n",
       "      <td>88</td>\n",
       "      <td>149.00</td>\n",
       "      <td>31</td>\n",
       "    </tr>\n",
       "    <tr>\n",
       "      <th>4</th>\n",
       "      <td>33</td>\n",
       "      <td>22300</td>\n",
       "      <td>Blair Witch...Oh Come On.......</td>\n",
       "      <td>Blair Witch Project</td>\n",
       "      <td>1.0</td>\n",
       "      <td>4.0</td>\n",
       "      <td>F</td>\n",
       "      <td>Movies</td>\n",
       "      <td>12</td>\n",
       "      <td>44.00</td>\n",
       "      <td>31</td>\n",
       "    </tr>\n",
       "    <tr>\n",
       "      <th>...</th>\n",
       "      <td>...</td>\n",
       "      <td>...</td>\n",
       "      <td>...</td>\n",
       "      <td>...</td>\n",
       "      <td>...</td>\n",
       "      <td>...</td>\n",
       "      <td>...</td>\n",
       "      <td>...</td>\n",
       "      <td>...</td>\n",
       "      <td>...</td>\n",
       "      <td>...</td>\n",
       "    </tr>\n",
       "    <tr>\n",
       "      <th>19995</th>\n",
       "      <td>10805</td>\n",
       "      <td>50600</td>\n",
       "      <td>The Upper Class Fast Food</td>\n",
       "      <td>Wendy's</td>\n",
       "      <td>2.0</td>\n",
       "      <td>3.0</td>\n",
       "      <td>F</td>\n",
       "      <td>Restaurants &amp; Gourmet</td>\n",
       "      <td>84</td>\n",
       "      <td>69.00</td>\n",
       "      <td>18</td>\n",
       "    </tr>\n",
       "    <tr>\n",
       "      <th>19996</th>\n",
       "      <td>10806</td>\n",
       "      <td>82201</td>\n",
       "      <td>What more can you ask for????</td>\n",
       "      <td>Olive Garden</td>\n",
       "      <td>4.0</td>\n",
       "      <td>0.0</td>\n",
       "      <td>M</td>\n",
       "      <td>Restaurants &amp; Gourmet</td>\n",
       "      <td>49</td>\n",
       "      <td>32.00</td>\n",
       "      <td>28</td>\n",
       "    </tr>\n",
       "    <tr>\n",
       "      <th>19997</th>\n",
       "      <td>10806</td>\n",
       "      <td>82201</td>\n",
       "      <td>Excellent steak for a good price</td>\n",
       "      <td>Outback Steakhouse</td>\n",
       "      <td>4.0</td>\n",
       "      <td>3.0</td>\n",
       "      <td>M</td>\n",
       "      <td>Restaurants &amp; Gourmet</td>\n",
       "      <td>50</td>\n",
       "      <td>25.00</td>\n",
       "      <td>28</td>\n",
       "    </tr>\n",
       "    <tr>\n",
       "      <th>19998</th>\n",
       "      <td>10807</td>\n",
       "      <td>31504</td>\n",
       "      <td>Different story world</td>\n",
       "      <td>J. K. Rowling - Harry Potter and the Sorcerer'...</td>\n",
       "      <td>4.0</td>\n",
       "      <td>0.0</td>\n",
       "      <td>M</td>\n",
       "      <td>Books</td>\n",
       "      <td>36</td>\n",
       "      <td>96.00</td>\n",
       "      <td>27</td>\n",
       "    </tr>\n",
       "    <tr>\n",
       "      <th>19999</th>\n",
       "      <td>10808</td>\n",
       "      <td>10200</td>\n",
       "      <td>Boldly Displaying Sigourneys Cleavage ..</td>\n",
       "      <td>Galaxy Quest</td>\n",
       "      <td>4.0</td>\n",
       "      <td>0.0</td>\n",
       "      <td>M</td>\n",
       "      <td>Movies</td>\n",
       "      <td>29</td>\n",
       "      <td>67.00</td>\n",
       "      <td>11</td>\n",
       "    </tr>\n",
       "  </tbody>\n",
       "</table>\n",
       "<p>19916 rows × 11 columns</p>\n",
       "</div>"
      ],
      "text/plain": [
       "       userId  timestamp                                    review  \\\n",
       "0        4051      12807                 Great job for what it is!   \n",
       "1        4052     122899               Free Access Worth your Time   \n",
       "2          33      12700             AOL..I love you!!!!!!!!!!!!     \n",
       "3          33      21000              EBAY!!!  I LOVE YOU!!!! :-)*   \n",
       "4          33      22300           Blair Witch...Oh Come On.......   \n",
       "...       ...        ...                                       ...   \n",
       "19995   10805      50600                 The Upper Class Fast Food   \n",
       "19996   10806      82201             What more can you ask for????   \n",
       "19997   10806      82201          Excellent steak for a good price   \n",
       "19998   10807      31504                     Different story world   \n",
       "19999   10808      10200  Boldly Displaying Sigourneys Cleavage ..   \n",
       "\n",
       "                                                    item  rating  helpfulness  \\\n",
       "0                                                   eBay     5.0          2.0   \n",
       "1                                                NetZero     5.0          0.0   \n",
       "2                                   AOL (America Online)     5.0          4.0   \n",
       "3                                                   eBay     5.0          4.0   \n",
       "4                                    Blair Witch Project     1.0          4.0   \n",
       "...                                                  ...     ...          ...   \n",
       "19995                                            Wendy's     2.0          3.0   \n",
       "19996                                       Olive Garden     4.0          0.0   \n",
       "19997                                 Outback Steakhouse     4.0          3.0   \n",
       "19998  J. K. Rowling - Harry Potter and the Sorcerer'...     4.0          0.0   \n",
       "19999                                       Galaxy Quest     4.0          0.0   \n",
       "\n",
       "      gender                  category  item_id  item_price  user_city  \n",
       "0          F  Online Stores & Services       88      149.00         39  \n",
       "1          F  Online Stores & Services       46       53.00         39  \n",
       "2          F  Online Stores & Services        0      145.84         31  \n",
       "3          F  Online Stores & Services       88      149.00         31  \n",
       "4          F                    Movies       12       44.00         31  \n",
       "...      ...                       ...      ...         ...        ...  \n",
       "19995      F     Restaurants & Gourmet       84       69.00         18  \n",
       "19996      M     Restaurants & Gourmet       49       32.00         28  \n",
       "19997      M     Restaurants & Gourmet       50       25.00         28  \n",
       "19998      M                     Books       36       96.00         27  \n",
       "19999      M                    Movies       29       67.00         11  \n",
       "\n",
       "[19916 rows x 11 columns]"
      ]
     },
     "execution_count": 20,
     "metadata": {},
     "output_type": "execute_result"
    }
   ],
   "source": [
    "clean_data"
   ]
  },
  {
   "cell_type": "markdown",
   "id": "EJG9_LEmqndR",
   "metadata": {
    "id": "EJG9_LEmqndR"
   },
   "source": [
    "#### Q2. Descriptive statistics\n",
    "\n",
    "With the cleaned data in Q1, please provide the data summarization as below:\n",
    "\n",
    "* Q2.1 total number of unique users, unique reviews, unique items, and unique categories\n",
    "* Q2.2 descriptive statistics, e.g., the total number, mean, std, min and max regarding all rating records\n",
    "* Q2.3 descriptive statistics, e.g., mean, std, max, and min of the number of items rated by different genders\n",
    "* Q2.4 descriptive statistics, e.g., mean, std, max, min of the number of ratings that received by each items\n"
   ]
  },
  {
   "cell_type": "code",
   "execution_count": 21,
   "id": "ac106557-fb78-4629-be5a-dbb492a53bf7",
   "metadata": {},
   "outputs": [
    {
     "name": "stdout",
     "output_type": "stream",
     "text": [
      "The number of unique users are  8562\n",
      "The number of unique reviews are  19459\n",
      "The number of unique items are  89\n",
      "The number of unique categories are  9\n"
     ]
    }
   ],
   "source": [
    "#your code and solutions\n",
    "# Q2.1 total number of unique users, unique reviews, unique items, and unique categories\n",
    "\n",
    "unique_users = clean_data['userId'].unique()\n",
    "print('The number of unique users are ', len(unique_users))\n",
    "\n",
    "unique_reviews = clean_data['review'].unique()\n",
    "print('The number of unique reviews are ', len(unique_reviews))\n",
    "\n",
    "unique_items = clean_data['item'].unique()\n",
    "print('The number of unique items are ', len(unique_items))\n",
    "\n",
    "\n",
    "unique_categories = clean_data['category'].unique()\n",
    "print('The number of unique categories are ', len(unique_categories))\n"
   ]
  },
  {
   "cell_type": "code",
   "execution_count": 22,
   "id": "d619c7d7-49ef-40a8-ad13-bc5372b322fd",
   "metadata": {},
   "outputs": [
    {
     "data": {
      "text/plain": [
       "count    19916.000000\n",
       "mean         3.701798\n",
       "std          1.404451\n",
       "min          1.000000\n",
       "25%          3.000000\n",
       "50%          4.000000\n",
       "75%          5.000000\n",
       "max          5.000000\n",
       "Name: rating, dtype: float64"
      ]
     },
     "execution_count": 22,
     "metadata": {},
     "output_type": "execute_result"
    }
   ],
   "source": [
    "# Q2.2 descriptive statistics, e.g., the total number, mean, std, min and max regarding all rating records\n",
    "clean_data.rating.describe()"
   ]
  },
  {
   "cell_type": "code",
   "execution_count": 23,
   "id": "3ad13e86-ad46-4c70-aaec-e218f5091c39",
   "metadata": {},
   "outputs": [
    {
     "data": {
      "text/plain": [
       "count        2.000000\n",
       "mean      9958.000000\n",
       "std        233.345238\n",
       "min       9793.000000\n",
       "25%       9875.500000\n",
       "50%       9958.000000\n",
       "75%      10040.500000\n",
       "max      10123.000000\n",
       "Name: item_count_by_gender, dtype: float64"
      ]
     },
     "execution_count": 23,
     "metadata": {},
     "output_type": "execute_result"
    }
   ],
   "source": [
    "# Q2.3 descriptive statistics, e.g., mean, std, max, and min of the number of items rated by different genders\n",
    "gender_item_num = clean_data.groupby(['gender'])['item'].count().reset_index(name='item_count_by_gender')\n",
    "gender_item_num['item_count_by_gender'].describe()"
   ]
  },
  {
   "cell_type": "code",
   "execution_count": 24,
   "id": "87ba1d42-15e3-4812-97b2-16161e7152c1",
   "metadata": {},
   "outputs": [
    {
     "data": {
      "text/plain": [
       "count       5.000000\n",
       "mean     3983.200000\n",
       "std      2540.669931\n",
       "min      2212.000000\n",
       "25%      2406.000000\n",
       "50%      2409.000000\n",
       "75%      4771.000000\n",
       "max      8118.000000\n",
       "Name: rating_by_item, dtype: float64"
      ]
     },
     "execution_count": 24,
     "metadata": {},
     "output_type": "execute_result"
    }
   ],
   "source": [
    "# Q2.4 descriptive statistics, e.g., mean, std, max, min of the number of ratings that received by each items\n",
    "item_rating_num = clean_data.groupby(['rating'])['item'].count().reset_index(name = 'rating_by_item')\n",
    "item_rating_num['rating_by_item'].describe()"
   ]
  },
  {
   "cell_type": "markdown",
   "id": "PISggxe5qndR",
   "metadata": {
    "id": "PISggxe5qndR"
   },
   "source": [
    "#### Q3. Plotting and Analysis\n",
    "\n",
    "Please try to explore the correlation between gender/helpfulness/category and ratings; for instance, do female/male users tend to provide higher ratings than male/female users? Hint: you may use the boxplot function to plot figures for comparison (___Challenge___)\n",
    "    \n",
    "You may need to select the most suitable graphic forms for ease of presentation. Most importantly, for each figure or subfigure, please summarise ___what each plot shows___ (i.e. observations and explanations). Finally, you may need to provide an overall summary of the data."
   ]
  },
  {
   "cell_type": "code",
   "execution_count": 25,
   "id": "9c8a1183-8084-4d95-8d5e-b8bcf85d708c",
   "metadata": {},
   "outputs": [
    {
     "data": {
      "text/plain": [
       "gender\n",
       "F     9793\n",
       "M    10123\n",
       "dtype: int64"
      ]
     },
     "execution_count": 25,
     "metadata": {},
     "output_type": "execute_result"
    }
   ],
   "source": [
    "#grouping gender as male and female\n",
    "counts = clean_data.groupby(['gender']) \n",
    "counts.size() "
   ]
  },
  {
   "cell_type": "code",
   "execution_count": 26,
   "id": "11c8fb9a-a63b-446e-808a-06fa5748931a",
   "metadata": {},
   "outputs": [
    {
     "data": {
      "text/plain": [
       "[Text(0.5, 1.0, 'Gender counts')]"
      ]
     },
     "execution_count": 26,
     "metadata": {},
     "output_type": "execute_result"
    },
    {
     "data": {
      "image/png": "[encoded data removed]",
      "text/plain": [
       "<Figure size 640x480 with 1 Axes>"
      ]
     },
     "metadata": {},
     "output_type": "display_data"
    }
   ],
   "source": [
    "sns.countplot(x='gender',data=clean_data).set(title='Gender counts')"
   ]
  },
  {
   "cell_type": "code",
   "execution_count": 27,
   "id": "05d43a6b-1e41-4741-a79c-31783a50fe43",
   "metadata": {},
   "outputs": [
    {
     "data": {
      "text/plain": [
       "[Text(0.5, 1.0, 'Rating vs Total Count')]"
      ]
     },
     "execution_count": 27,
     "metadata": {},
     "output_type": "execute_result"
    },
    {
     "data": {
      "image/png": "[encoded data removed]",
      "text/plain": [
       "<Figure size 640x480 with 1 Axes>"
      ]
     },
     "metadata": {},
     "output_type": "display_data"
    }
   ],
   "source": [
    "pd.crosstab(clean_data['rating'],clean_data['gender']).plot(kind='bar',stacked=True).set(title='Rating vs Total Count')"
   ]
  },
  {
   "cell_type": "code",
   "execution_count": 28,
   "id": "Zyuvw_WlqndR",
   "metadata": {
    "id": "Zyuvw_WlqndR"
   },
   "outputs": [
    {
     "data": {
      "text/plain": [
       "(array([0, 1]), [Text(0, 0, 'F'), Text(1, 0, 'M')])"
      ]
     },
     "execution_count": 28,
     "metadata": {},
     "output_type": "execute_result"
    },
    {
     "data": {
      "image/png": "[encoded data removed]",
      "text/plain": [
       "<Figure size 640x480 with 1 Axes>"
      ]
     },
     "metadata": {},
     "output_type": "display_data"
    }
   ],
   "source": [
    "# your code and solutions\n",
    "#gender and rating correlation\n",
    "sns.boxplot(x='gender', y='rating', data=clean_data)\n",
    "plt.xticks(rotation=90)"
   ]
  },
  {
   "cell_type": "markdown",
   "id": "da6b90fa-1084-4bd9-a976-4180147acb4b",
   "metadata": {},
   "source": [
    "#### Analysis and Observation for Gender Vs Rating\n",
    "##### From the above plots it is clear that both gender had almost equal contribution for the rating\n",
    "##### Although when closely observed, total number of males who rated was more compared to those of females\n",
    "##### Median for both male and female is closely same\n",
    "#####\n"
   ]
  },
  {
   "cell_type": "code",
   "execution_count": 29,
   "id": "12670d17-6f89-43cd-88d0-9bbff4dc5aa3",
   "metadata": {},
   "outputs": [
    {
     "data": {
      "text/plain": [
       "[Text(0.5, 1.0, 'Total number of rating')]"
      ]
     },
     "execution_count": 29,
     "metadata": {},
     "output_type": "execute_result"
    },
    {
     "data": {
      "image/png": "[encoded data removed]",
      "text/plain": [
       "<Figure size 640x480 with 1 Axes>"
      ]
     },
     "metadata": {},
     "output_type": "display_data"
    }
   ],
   "source": [
    "sns.countplot(x='rating',data=clean_data).set(title='Total number of rating')"
   ]
  },
  {
   "cell_type": "code",
   "execution_count": 30,
   "id": "de5509c7-5827-453c-968c-66ee608eba8f",
   "metadata": {},
   "outputs": [
    {
     "data": {
      "text/plain": [
       "[Text(0.5, 1.0, 'Helpfulness count')]"
      ]
     },
     "execution_count": 30,
     "metadata": {},
     "output_type": "execute_result"
    },
    {
     "data": {
      "image/png": "[encoded data removed]",
      "text/plain": [
       "<Figure size 640x480 with 1 Axes>"
      ]
     },
     "metadata": {},
     "output_type": "display_data"
    }
   ],
   "source": [
    "sns.countplot(x='helpfulness',data=clean_data).set(title='Helpfulness count')"
   ]
  },
  {
   "cell_type": "code",
   "execution_count": 31,
   "id": "be8c9f35-5ae4-47e6-bf2b-a2e791c9620c",
   "metadata": {},
   "outputs": [
    {
     "data": {
      "text/plain": [
       "[Text(0.5, 1.0, 'Rating count')]"
      ]
     },
     "execution_count": 31,
     "metadata": {},
     "output_type": "execute_result"
    },
    {
     "data": {
      "image/png": "[encoded data removed]",
      "text/plain": [
       "<Figure size 640x480 with 1 Axes>"
      ]
     },
     "metadata": {},
     "output_type": "display_data"
    }
   ],
   "source": [
    "pd.crosstab(clean_data['rating'],clean_data['helpfulness']).plot(kind='bar',stacked=True).set(title='Rating count')"
   ]
  },
  {
   "cell_type": "code",
   "execution_count": 32,
   "id": "c9577def-0605-43fc-89c3-91caa7122965",
   "metadata": {},
   "outputs": [
    {
     "data": {
      "text/plain": [
       "(array([0, 1, 2, 3, 4]),\n",
       " [Text(0, 0, '0.0'),\n",
       "  Text(1, 0, '1.0'),\n",
       "  Text(2, 0, '2.0'),\n",
       "  Text(3, 0, '3.0'),\n",
       "  Text(4, 0, '4.0')])"
      ]
     },
     "execution_count": 32,
     "metadata": {},
     "output_type": "execute_result"
    },
    {
     "data": {
      "image/png": "[encoded data removed]",
      "text/plain": [
       "<Figure size 640x480 with 1 Axes>"
      ]
     },
     "metadata": {},
     "output_type": "display_data"
    }
   ],
   "source": [
    "#helpfulness and rating correlation\n",
    "sns.boxplot(x='helpfulness', y='rating', data=clean_data)\n",
    "plt.title('Ratings by helpfulness')\n",
    "plt.xticks(rotation=90)"
   ]
  },
  {
   "cell_type": "markdown",
   "id": "d14df19c-4a0e-4b42-98cc-078dbafac65e",
   "metadata": {},
   "source": [
    "#### Analysis and Observation for Helpfulness Vs Rating\n",
    "##### Overall, majority of the reviews had perfect helpfulness score.\n",
    "##### More than half of the review had a rating more than 3\n",
    "#####"
   ]
  },
  {
   "cell_type": "code",
   "execution_count": 33,
   "id": "2b20d140-c7b8-43ed-bbd7-b25c86f02fc8",
   "metadata": {},
   "outputs": [
    {
     "data": {
      "text/plain": [
       "[Text(0.5, 1.0, 'Category vs Count')]"
      ]
     },
     "execution_count": 33,
     "metadata": {},
     "output_type": "execute_result"
    },
    {
     "data": {
      "image/png": "[encoded data removed]",
      "text/plain": [
       "<Figure size 1700x700 with 1 Axes>"
      ]
     },
     "metadata": {},
     "output_type": "display_data"
    }
   ],
   "source": [
    "plt.figure(figsize=(17,7))\n",
    "sns.countplot(x='category',data=clean_data).set(title='Category vs Count')"
   ]
  },
  {
   "cell_type": "code",
   "execution_count": 34,
   "id": "ae475d07-22c1-4358-85f2-c0497514c3e1",
   "metadata": {
    "scrolled": true
   },
   "outputs": [
    {
     "data": {
      "text/plain": [
       "<Figure size 2500x1900 with 0 Axes>"
      ]
     },
     "metadata": {},
     "output_type": "display_data"
    },
    {
     "data": {
      "image/png": "[encoded data removed]",
      "text/plain": [
       "<Figure size 640x480 with 1 Axes>"
      ]
     },
     "metadata": {},
     "output_type": "display_data"
    }
   ],
   "source": [
    "plt.figure(figsize=(25,19))\n",
    "pd.crosstab(clean_data['rating'],clean_data['category']).plot(kind='bar',stacked=True).set(title='Rating Count')\n",
    "plt.show()"
   ]
  },
  {
   "cell_type": "code",
   "execution_count": 35,
   "id": "be8d02c1-f7b1-4b49-9d47-967d0f5b7cc8",
   "metadata": {},
   "outputs": [
    {
     "data": {
      "text/plain": [
       "(array([0, 1, 2, 3, 4, 5, 6, 7, 8]),\n",
       " [Text(0, 0, 'Online Stores & Services'),\n",
       "  Text(1, 0, 'Movies'),\n",
       "  Text(2, 0, 'Restaurants & Gourmet'),\n",
       "  Text(3, 0, 'Personal Finance'),\n",
       "  Text(4, 0, 'Kids & Family'),\n",
       "  Text(5, 0, 'Hotels & Travel'),\n",
       "  Text(6, 0, 'Media'),\n",
       "  Text(7, 0, 'Games'),\n",
       "  Text(8, 0, 'Books')])"
      ]
     },
     "execution_count": 35,
     "metadata": {},
     "output_type": "execute_result"
    },
    {
     "data": {
      "image/png": "[encoded data removed]",
      "text/plain": [
       "<Figure size 640x480 with 1 Axes>"
      ]
     },
     "metadata": {},
     "output_type": "display_data"
    }
   ],
   "source": [
    "#category rating correlation\n",
    "sns.boxplot(x='category', y='rating', data=clean_data)\n",
    "plt.title('Ratings by category')\n",
    "plt.xticks(rotation=90)"
   ]
  },
  {
   "cell_type": "markdown",
   "id": "4c8a0aa0-c984-45e3-8662-bd0b46c4ecfd",
   "metadata": {},
   "source": [
    "### Analysis and Observation for Category Vs Rating\n",
    "#### From the above graph, we can observe majority of the rating was given to the movies, which is closely followed by online stores and services\n",
    "#### Items with category books was rated lowest\n",
    "#### "
   ]
  },
  {
   "cell_type": "markdown",
   "id": "TxD3SLxRqndR",
   "metadata": {
    "id": "TxD3SLxRqndR"
   },
   "source": [
    "#### Q4. Detect and remove outliers\n",
    "\n",
    "We may define outlier users, reviews and items with three rules (if a record meets one of the rules, it is regarded as an outlier):\n",
    "\n",
    "1. reviews of which the helpfulness is no more than 2\n",
    "2. users who rate less than 7 items\n",
    "3. items that receives less than 11 ratings\n",
    "\n",
    "Please remove the corresponding records in the csv file that involves outlier users, reviews and items. You need to follow the order of rules to perform data cleaning operations. After that, __print the length of the data__."
   ]
  },
  {
   "cell_type": "code",
   "execution_count": 36,
   "id": "dd52c153-c324-40be-9952-0d2f199f7037",
   "metadata": {},
   "outputs": [
    {
     "data": {
      "text/plain": [
       "19916"
      ]
     },
     "execution_count": 36,
     "metadata": {},
     "output_type": "execute_result"
    }
   ],
   "source": [
    "#print the length of the data\n",
    "len(clean_data)"
   ]
  },
  {
   "cell_type": "code",
   "execution_count": 37,
   "id": "65f82c9f-3daf-491b-91d5-d7083b9dc3f4",
   "metadata": {},
   "outputs": [
    {
     "name": "stdout",
     "output_type": "stream",
     "text": [
      "Index([    0,     1,     5,     7,     8,    10,    16,    19,    23,    26,\n",
      "       ...\n",
      "       19980, 19981, 19982, 19984, 19986, 19987, 19991, 19996, 19998, 19999],\n",
      "      dtype='int64', length=6273)\n",
      "6273\n"
     ]
    }
   ],
   "source": [
    "#reviews of which the helpfulness is no more than 2\n",
    "review_less_than_two = clean_data.index[(clean_data['helpfulness'] <=2)]\n",
    "print(review_less_than_two)\n",
    "print(len(review_less_than_two))"
   ]
  },
  {
   "cell_type": "code",
   "execution_count": 38,
   "id": "JaQJmew4qndR",
   "metadata": {
    "id": "JaQJmew4qndR"
   },
   "outputs": [
    {
     "name": "stdout",
     "output_type": "stream",
     "text": [
      "the length after removing helpless with review no more than two is 13643\n"
     ]
    }
   ],
   "source": [
    "# your code and solutions\n",
    "#drop reviews of which the helpfulness is no more than 2\n",
    "new_df = clean_data.drop(clean_data.index[(clean_data['helpfulness'] <=2)])\n",
    "print('the length after removing helpless with review no more than two is', len(new_df))"
   ]
  },
  {
   "cell_type": "code",
   "execution_count": 39,
   "id": "778150ad-5876-425b-a27f-4aa494a55019",
   "metadata": {},
   "outputs": [
    {
     "data": {
      "text/plain": [
       "(13643, 11)"
      ]
     },
     "execution_count": 39,
     "metadata": {},
     "output_type": "execute_result"
    }
   ],
   "source": [
    "new_df.shape"
   ]
  },
  {
   "cell_type": "code",
   "execution_count": 40,
   "id": "f5ad58a1-1b57-4ee5-99b2-d774faf1a2eb",
   "metadata": {},
   "outputs": [
    {
     "name": "stdout",
     "output_type": "stream",
     "text": [
      "2741\n"
     ]
    }
   ],
   "source": [
    "#users who rate less than 7 items\n",
    "user_counts = new_df['userId'].value_counts()\n",
    "new_df = new_df[~new_df['userId'].isin(user_counts[user_counts < 7].index)]\n",
    "print(len(new_df))"
   ]
  },
  {
   "cell_type": "code",
   "execution_count": 41,
   "id": "f0be333f-a8a3-451c-b177-fc4558b3c204",
   "metadata": {},
   "outputs": [
    {
     "data": {
      "text/html": [
       "<div>\n",
       "<style scoped>\n",
       "    .dataframe tbody tr th:only-of-type {\n",
       "        vertical-align: middle;\n",
       "    }\n",
       "\n",
       "    .dataframe tbody tr th {\n",
       "        vertical-align: top;\n",
       "    }\n",
       "\n",
       "    .dataframe thead th {\n",
       "        text-align: right;\n",
       "    }\n",
       "</style>\n",
       "<table border=\"1\" class=\"dataframe\">\n",
       "  <thead>\n",
       "    <tr style=\"text-align: right;\">\n",
       "      <th></th>\n",
       "      <th>userId</th>\n",
       "      <th>timestamp</th>\n",
       "      <th>review</th>\n",
       "      <th>item</th>\n",
       "      <th>rating</th>\n",
       "      <th>helpfulness</th>\n",
       "      <th>gender</th>\n",
       "      <th>category</th>\n",
       "      <th>item_id</th>\n",
       "      <th>item_price</th>\n",
       "      <th>user_city</th>\n",
       "    </tr>\n",
       "  </thead>\n",
       "  <tbody>\n",
       "    <tr>\n",
       "      <th>78</th>\n",
       "      <td>4081</td>\n",
       "      <td>71900</td>\n",
       "      <td>Not always McCrap</td>\n",
       "      <td>McDonald's</td>\n",
       "      <td>4.0</td>\n",
       "      <td>3.0</td>\n",
       "      <td>M</td>\n",
       "      <td>Restaurants &amp; Gourmet</td>\n",
       "      <td>41</td>\n",
       "      <td>30.74</td>\n",
       "      <td>4</td>\n",
       "    </tr>\n",
       "    <tr>\n",
       "      <th>80</th>\n",
       "      <td>4081</td>\n",
       "      <td>72000</td>\n",
       "      <td>I dropped the chalupa even before he told me to</td>\n",
       "      <td>Taco Bell</td>\n",
       "      <td>1.0</td>\n",
       "      <td>4.0</td>\n",
       "      <td>M</td>\n",
       "      <td>Restaurants &amp; Gourmet</td>\n",
       "      <td>74</td>\n",
       "      <td>108.30</td>\n",
       "      <td>4</td>\n",
       "    </tr>\n",
       "    <tr>\n",
       "      <th>81</th>\n",
       "      <td>4081</td>\n",
       "      <td>72000</td>\n",
       "      <td>The Wonderful World of Wendy</td>\n",
       "      <td>Wendy's</td>\n",
       "      <td>5.0</td>\n",
       "      <td>4.0</td>\n",
       "      <td>M</td>\n",
       "      <td>Restaurants &amp; Gourmet</td>\n",
       "      <td>84</td>\n",
       "      <td>69.00</td>\n",
       "      <td>4</td>\n",
       "    </tr>\n",
       "    <tr>\n",
       "      <th>82</th>\n",
       "      <td>4081</td>\n",
       "      <td>100399</td>\n",
       "      <td>They actually did it</td>\n",
       "      <td>South Park: Bigger, Longer &amp; Uncut</td>\n",
       "      <td>5.0</td>\n",
       "      <td>3.0</td>\n",
       "      <td>M</td>\n",
       "      <td>Movies</td>\n",
       "      <td>68</td>\n",
       "      <td>143.11</td>\n",
       "      <td>4</td>\n",
       "    </tr>\n",
       "    <tr>\n",
       "      <th>83</th>\n",
       "      <td>4081</td>\n",
       "      <td>100399</td>\n",
       "      <td>Hey! Gimme some pie!</td>\n",
       "      <td>American Pie</td>\n",
       "      <td>3.0</td>\n",
       "      <td>3.0</td>\n",
       "      <td>M</td>\n",
       "      <td>Movies</td>\n",
       "      <td>6</td>\n",
       "      <td>117.89</td>\n",
       "      <td>4</td>\n",
       "    </tr>\n",
       "  </tbody>\n",
       "</table>\n",
       "</div>"
      ],
      "text/plain": [
       "    userId  timestamp                                           review  \\\n",
       "78    4081      71900                                Not always McCrap   \n",
       "80    4081      72000  I dropped the chalupa even before he told me to   \n",
       "81    4081      72000                     The Wonderful World of Wendy   \n",
       "82    4081     100399                             They actually did it   \n",
       "83    4081     100399                             Hey! Gimme some pie!   \n",
       "\n",
       "                                  item  rating  helpfulness gender  \\\n",
       "78                          McDonald's     4.0          3.0      M   \n",
       "80                           Taco Bell     1.0          4.0      M   \n",
       "81                             Wendy's     5.0          4.0      M   \n",
       "82  South Park: Bigger, Longer & Uncut     5.0          3.0      M   \n",
       "83                        American Pie     3.0          3.0      M   \n",
       "\n",
       "                 category  item_id  item_price  user_city  \n",
       "78  Restaurants & Gourmet       41       30.74          4  \n",
       "80  Restaurants & Gourmet       74      108.30          4  \n",
       "81  Restaurants & Gourmet       84       69.00          4  \n",
       "82                 Movies       68      143.11          4  \n",
       "83                 Movies        6      117.89          4  "
      ]
     },
     "execution_count": 41,
     "metadata": {},
     "output_type": "execute_result"
    }
   ],
   "source": [
    "new_df.head()"
   ]
  },
  {
   "cell_type": "code",
   "execution_count": 42,
   "id": "0b6a9c10-7d2b-4aa4-8206-065fc7a1780b",
   "metadata": {},
   "outputs": [
    {
     "name": "stdout",
     "output_type": "stream",
     "text": [
      "Length after removing outlier is 2685\n"
     ]
    }
   ],
   "source": [
    "#items that receives less than 11 ratings\n",
    "item_counts = new_df['item'].value_counts()\n",
    "new_df = new_df[~new_df['item'].isin(item_counts[item_counts < 11].index)]\n",
    "#print the length of the data\n",
    "print('Length after removing outlier is',len(new_df))"
   ]
  },
  {
   "cell_type": "code",
   "execution_count": 43,
   "id": "66bf1810-e19f-4a08-be24-de4ec8fe6069",
   "metadata": {},
   "outputs": [
    {
     "data": {
      "text/html": [
       "<div>\n",
       "<style scoped>\n",
       "    .dataframe tbody tr th:only-of-type {\n",
       "        vertical-align: middle;\n",
       "    }\n",
       "\n",
       "    .dataframe tbody tr th {\n",
       "        vertical-align: top;\n",
       "    }\n",
       "\n",
       "    .dataframe thead th {\n",
       "        text-align: right;\n",
       "    }\n",
       "</style>\n",
       "<table border=\"1\" class=\"dataframe\">\n",
       "  <thead>\n",
       "    <tr style=\"text-align: right;\">\n",
       "      <th></th>\n",
       "      <th>userId</th>\n",
       "      <th>timestamp</th>\n",
       "      <th>review</th>\n",
       "      <th>item</th>\n",
       "      <th>rating</th>\n",
       "      <th>helpfulness</th>\n",
       "      <th>gender</th>\n",
       "      <th>category</th>\n",
       "      <th>item_id</th>\n",
       "      <th>item_price</th>\n",
       "      <th>user_city</th>\n",
       "    </tr>\n",
       "  </thead>\n",
       "  <tbody>\n",
       "    <tr>\n",
       "      <th>78</th>\n",
       "      <td>4081</td>\n",
       "      <td>71900</td>\n",
       "      <td>Not always McCrap</td>\n",
       "      <td>McDonald's</td>\n",
       "      <td>4.0</td>\n",
       "      <td>3.0</td>\n",
       "      <td>M</td>\n",
       "      <td>Restaurants &amp; Gourmet</td>\n",
       "      <td>41</td>\n",
       "      <td>30.74</td>\n",
       "      <td>4</td>\n",
       "    </tr>\n",
       "    <tr>\n",
       "      <th>80</th>\n",
       "      <td>4081</td>\n",
       "      <td>72000</td>\n",
       "      <td>I dropped the chalupa even before he told me to</td>\n",
       "      <td>Taco Bell</td>\n",
       "      <td>1.0</td>\n",
       "      <td>4.0</td>\n",
       "      <td>M</td>\n",
       "      <td>Restaurants &amp; Gourmet</td>\n",
       "      <td>74</td>\n",
       "      <td>108.30</td>\n",
       "      <td>4</td>\n",
       "    </tr>\n",
       "    <tr>\n",
       "      <th>81</th>\n",
       "      <td>4081</td>\n",
       "      <td>72000</td>\n",
       "      <td>The Wonderful World of Wendy</td>\n",
       "      <td>Wendy's</td>\n",
       "      <td>5.0</td>\n",
       "      <td>4.0</td>\n",
       "      <td>M</td>\n",
       "      <td>Restaurants &amp; Gourmet</td>\n",
       "      <td>84</td>\n",
       "      <td>69.00</td>\n",
       "      <td>4</td>\n",
       "    </tr>\n",
       "    <tr>\n",
       "      <th>82</th>\n",
       "      <td>4081</td>\n",
       "      <td>100399</td>\n",
       "      <td>They actually did it</td>\n",
       "      <td>South Park: Bigger, Longer &amp; Uncut</td>\n",
       "      <td>5.0</td>\n",
       "      <td>3.0</td>\n",
       "      <td>M</td>\n",
       "      <td>Movies</td>\n",
       "      <td>68</td>\n",
       "      <td>143.11</td>\n",
       "      <td>4</td>\n",
       "    </tr>\n",
       "    <tr>\n",
       "      <th>83</th>\n",
       "      <td>4081</td>\n",
       "      <td>100399</td>\n",
       "      <td>Hey! Gimme some pie!</td>\n",
       "      <td>American Pie</td>\n",
       "      <td>3.0</td>\n",
       "      <td>3.0</td>\n",
       "      <td>M</td>\n",
       "      <td>Movies</td>\n",
       "      <td>6</td>\n",
       "      <td>117.89</td>\n",
       "      <td>4</td>\n",
       "    </tr>\n",
       "  </tbody>\n",
       "</table>\n",
       "</div>"
      ],
      "text/plain": [
       "    userId  timestamp                                           review  \\\n",
       "78    4081      71900                                Not always McCrap   \n",
       "80    4081      72000  I dropped the chalupa even before he told me to   \n",
       "81    4081      72000                     The Wonderful World of Wendy   \n",
       "82    4081     100399                             They actually did it   \n",
       "83    4081     100399                             Hey! Gimme some pie!   \n",
       "\n",
       "                                  item  rating  helpfulness gender  \\\n",
       "78                          McDonald's     4.0          3.0      M   \n",
       "80                           Taco Bell     1.0          4.0      M   \n",
       "81                             Wendy's     5.0          4.0      M   \n",
       "82  South Park: Bigger, Longer & Uncut     5.0          3.0      M   \n",
       "83                        American Pie     3.0          3.0      M   \n",
       "\n",
       "                 category  item_id  item_price  user_city  \n",
       "78  Restaurants & Gourmet       41       30.74          4  \n",
       "80  Restaurants & Gourmet       74      108.30          4  \n",
       "81  Restaurants & Gourmet       84       69.00          4  \n",
       "82                 Movies       68      143.11          4  \n",
       "83                 Movies        6      117.89          4  "
      ]
     },
     "execution_count": 43,
     "metadata": {},
     "output_type": "execute_result"
    }
   ],
   "source": [
    "new_df.head()"
   ]
  },
  {
   "cell_type": "code",
   "execution_count": 44,
   "id": "f5062170-952d-429a-85ed-0c139ddaa4a9",
   "metadata": {},
   "outputs": [
    {
     "data": {
      "text/plain": [
       "(2685, 11)"
      ]
     },
     "execution_count": 44,
     "metadata": {},
     "output_type": "execute_result"
    }
   ],
   "source": [
    "new_df.shape"
   ]
  }
 ],
 "metadata": {
  "colab": {
   "provenance": []
  },
  "kernelspec": {
   "display_name": "Python 3 (ipykernel)",
   "language": "python",
   "name": "python3"
  },
  "language_info": {
   "codemirror_mode": {
    "name": "ipython",
    "version": 3
   },
   "file_extension": ".py",
   "mimetype": "text/x-python",
   "name": "python",
   "nbconvert_exporter": "python",
   "pygments_lexer": "ipython3",
   "version": "3.11.7"
  }
 },
 "nbformat": 4,
 "nbformat_minor": 5
}
